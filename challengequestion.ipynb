{
  "nbformat": 4,
  "nbformat_minor": 0,
  "metadata": {
    "colab": {
      "provenance": [],
      "authorship_tag": "ABX9TyPE5irlmRWcpDrzwIXSQ0Zo",
      "include_colab_link": true
    },
    "kernelspec": {
      "name": "python3",
      "display_name": "Python 3"
    },
    "language_info": {
      "name": "python"
    }
  },
  "cells": [
    {
      "cell_type": "markdown",
      "metadata": {
        "id": "view-in-github",
        "colab_type": "text"
      },
      "source": [
        "<a href=\"https://colab.research.google.com/github/Khagendra-12/Challenge-Question/blob/main/challengequestion.ipynb\" target=\"_parent\"><img src=\"https://colab.research.google.com/assets/colab-badge.svg\" alt=\"Open In Colab\"/></a>"
      ]
    },
    {
      "cell_type": "code",
      "execution_count": null,
      "metadata": {
        "id": "WuVIu556Dhle"
      },
      "outputs": [],
      "source": [
        "L = [10, \"Ram\", 1, \"Shyam\", 2, \"Aman\"]\n",
        "print(L)\n",
        "L1=[]                                    #Create a new list L1.\n",
        "L2=[]                                    #Create a new list L2.\n",
        "\n",
        "for i in L:\n",
        "    try:\n",
        "        L1.append(int(i))                #Add integers from L to L1.\n",
        "    except:\n",
        "        L2.append(i)                     #Add strings from L to L2\n",
        "\n",
        "L=sorted(L1)+sorted(L2, key = str.lower) #Sort list L1 and L2 and add them to L\n",
        "print(L)                                 #Print sorted list L"
      ]
    }
  ]
}